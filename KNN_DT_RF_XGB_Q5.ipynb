{
  "nbformat": 4,
  "nbformat_minor": 0,
  "metadata": {
    "colab": {
      "provenance": [],
      "include_colab_link": true
    },
    "kernelspec": {
      "name": "python3",
      "display_name": "Python 3"
    },
    "language_info": {
      "name": "python"
    }
  },
  "cells": [
    {
      "cell_type": "markdown",
      "metadata": {
        "id": "view-in-github",
        "colab_type": "text"
      },
      "source": [
        "<a href=\"https://colab.research.google.com/github/mr-nudo/intelligent-tools/blob/master/KNN_DT_RF_XGB_Q5.ipynb\" target=\"_parent\"><img src=\"https://colab.research.google.com/assets/colab-badge.svg\" alt=\"Open In Colab\"/></a>"
      ]
    },
    {
      "cell_type": "markdown",
      "source": [
        "# Import the libraries"
      ],
      "metadata": {
        "id": "7ErqMGRlQmv3"
      }
    },
    {
      "cell_type": "code",
      "execution_count": null,
      "metadata": {
        "id": "mVyIg14cmiH9"
      },
      "outputs": [],
      "source": [
        "import numpy as np\n",
        "import pandas as pd\n",
        "import random\n",
        "import matplotlib.pyplot as plt\n",
        "import seaborn as sns\n",
        "from sklearn.preprocessing import StandardScaler\n",
        "from sklearn.model_selection import train_test_split\n",
        "from sklearn.metrics import accuracy_score, confusion_matrix\n",
        "from sklearn.neighbors import KNeighborsClassifier\n",
        "from sklearn.tree import DecisionTreeClassifier\n",
        "from sklearn.ensemble import RandomForestClassifier\n",
        "from xgboost import XGBClassifier"
      ]
    },
    {
      "cell_type": "markdown",
      "source": [
        "# Setting random seed"
      ],
      "metadata": {
        "id": "TpAo7CopUxpJ"
      }
    },
    {
      "cell_type": "code",
      "source": [
        "random.seed(25)\n",
        "np.random.seed(25)\n"
      ],
      "metadata": {
        "id": "ny0ebRhMUz2i"
      },
      "execution_count": null,
      "outputs": []
    },
    {
      "cell_type": "markdown",
      "source": [
        "# Load the dataset"
      ],
      "metadata": {
        "id": "wr629scDRTqZ"
      }
    },
    {
      "cell_type": "code",
      "source": [
        "# Load the dataset\n",
        "data_path = 'path_to_imbalanced_heart_data.csv'\n",
        "heart_data = pd.read_csv(data_path)\n"
      ],
      "metadata": {
        "id": "Z3_FYIMORVu6"
      },
      "execution_count": null,
      "outputs": []
    },
    {
      "cell_type": "markdown",
      "source": [
        "# TODO: Explore the dataset"
      ],
      "metadata": {
        "id": "3Jo6Nyt_RbBK"
      }
    },
    {
      "cell_type": "markdown",
      "source": [
        "## TODO: Print basic information"
      ],
      "metadata": {
        "id": "5_R-hnQ5RiaG"
      }
    },
    {
      "cell_type": "code",
      "source": [
        "# TODO: Basic information\n"
      ],
      "metadata": {
        "id": "9HRPzdALRd5A"
      },
      "execution_count": null,
      "outputs": []
    },
    {
      "cell_type": "markdown",
      "source": [
        "## TODO: Print the distribution of target variable"
      ],
      "metadata": {
        "id": "DiWLqhyYRqt6"
      }
    },
    {
      "cell_type": "code",
      "source": [
        "# TODO: Distribution of the target variable"
      ],
      "metadata": {
        "id": "mvsvSW3BRuju"
      },
      "execution_count": null,
      "outputs": []
    },
    {
      "cell_type": "markdown",
      "source": [
        "## TODO: Plot histograms of numerical attributes"
      ],
      "metadata": {
        "id": "IM5wh_fiRx39"
      }
    },
    {
      "cell_type": "code",
      "source": [
        "# TODO: Plotting histograms for numerical attributes\n"
      ],
      "metadata": {
        "id": "nE9sgB6kR2BV"
      },
      "execution_count": null,
      "outputs": []
    },
    {
      "cell_type": "markdown",
      "source": [
        "## TODO: Visualise the correlation matrix"
      ],
      "metadata": {
        "id": "omFg8-_BR5jp"
      }
    },
    {
      "cell_type": "code",
      "source": [
        "# TODO: Correlation matrix\n"
      ],
      "metadata": {
        "id": "rWIhp6ruR8_d"
      },
      "execution_count": null,
      "outputs": []
    },
    {
      "cell_type": "markdown",
      "source": [
        "# TODO: Scale the features"
      ],
      "metadata": {
        "id": "2l499pqLSA_J"
      }
    },
    {
      "cell_type": "code",
      "source": [
        "# TODO: Scaling features\n"
      ],
      "metadata": {
        "id": "RT8fm7uJmvzu"
      },
      "execution_count": null,
      "outputs": []
    },
    {
      "cell_type": "markdown",
      "source": [
        "# TODO: Create the training and testing datasets"
      ],
      "metadata": {
        "id": "z5DcwmSlSIdh"
      }
    },
    {
      "cell_type": "code",
      "source": [
        "# TODO:"
      ],
      "metadata": {
        "id": "vc-cLIehSMvH"
      },
      "execution_count": null,
      "outputs": []
    },
    {
      "cell_type": "markdown",
      "source": [
        "# TODO: Train all the models"
      ],
      "metadata": {
        "id": "wYX9Nux-SWdI"
      }
    },
    {
      "cell_type": "code",
      "source": [
        "# TODO: Define parameter sets\n",
        "\n",
        "\n",
        "# TODO: Classifiers with their parameter sets\n",
        "\n",
        "\n",
        "# TODO: Evaluate each classifier with each parameter set\n"
      ],
      "metadata": {
        "id": "QHSL9EaymzF2"
      },
      "execution_count": null,
      "outputs": []
    }
  ]
}