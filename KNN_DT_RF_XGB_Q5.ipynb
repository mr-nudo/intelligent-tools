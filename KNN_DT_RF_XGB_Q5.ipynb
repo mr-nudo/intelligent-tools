{
  "nbformat": 4,
  "nbformat_minor": 0,
  "metadata": {
    "colab": {
      "provenance": [],
      "include_colab_link": true
    },
    "kernelspec": {
      "name": "python3",
      "display_name": "Python 3"
    },
    "language_info": {
      "name": "python"
    }
  },
  "cells": [
    {
      "cell_type": "markdown",
      "metadata": {
        "id": "view-in-github",
        "colab_type": "text"
      },
      "source": [
        "<a href=\"https://colab.research.google.com/github/mr-nudo/intelligent-tools/blob/master/KNN_DT_RF_XGB_Q5.ipynb\" target=\"_parent\"><img src=\"https://colab.research.google.com/assets/colab-badge.svg\" alt=\"Open In Colab\"/></a>"
      ]
    },
    {
      "cell_type": "markdown",
      "source": [
        "# Import the libraries"
      ],
      "metadata": {
        "id": "7ErqMGRlQmv3"
      }
    },
    {
      "cell_type": "code",
      "execution_count": 1,
      "metadata": {
        "id": "mVyIg14cmiH9"
      },
      "outputs": [],
      "source": [
        "import numpy as np\n",
        "import pandas as pd\n",
        "import random\n",
        "import matplotlib.pyplot as plt\n",
        "import seaborn as sns\n",
        "from sklearn.preprocessing import StandardScaler\n",
        "from sklearn.model_selection import train_test_split\n",
        "from sklearn.metrics import accuracy_score, confusion_matrix\n",
        "from sklearn.neighbors import KNeighborsClassifier\n",
        "from sklearn.tree import DecisionTreeClassifier\n",
        "from sklearn.ensemble import RandomForestClassifier\n",
        "from xgboost import XGBClassifier"
      ]
    },
    {
      "cell_type": "markdown",
      "source": [
        "# Setting random seed"
      ],
      "metadata": {
        "id": "TpAo7CopUxpJ"
      }
    },
    {
      "cell_type": "code",
      "source": [
        "random.seed(25)\n",
        "np.random.seed(25)\n"
      ],
      "metadata": {
        "id": "ny0ebRhMUz2i"
      },
      "execution_count": 2,
      "outputs": []
    },
    {
      "cell_type": "markdown",
      "source": [
        "# Load the dataset"
      ],
      "metadata": {
        "id": "wr629scDRTqZ"
      }
    },
    {
      "cell_type": "code",
      "source": [
        "from google.colab import drive\n",
        "drive.mount('/content/drive')"
      ],
      "metadata": {
        "colab": {
          "base_uri": "https://localhost:8080/"
        },
        "id": "MOs--b1A9mLJ",
        "outputId": "59f9091b-1a28-4c60-c9e3-d97662dedfdd"
      },
      "execution_count": 3,
      "outputs": [
        {
          "output_type": "stream",
          "name": "stdout",
          "text": [
            "Mounted at /content/drive\n"
          ]
        }
      ]
    },
    {
      "cell_type": "code",
      "source": [
        "# Load the dataset\n",
        "data_path = '/content/drive/MyDrive/imbalanced_heart_data_q5.csv'\n",
        "heart_data = pd.read_csv(data_path)"
      ],
      "metadata": {
        "id": "Z3_FYIMORVu6"
      },
      "execution_count": 4,
      "outputs": []
    },
    {
      "cell_type": "markdown",
      "source": [
        "# TODO: Explore the dataset"
      ],
      "metadata": {
        "id": "3Jo6Nyt_RbBK"
      }
    },
    {
      "cell_type": "markdown",
      "source": [
        "## TODO: Print basic information"
      ],
      "metadata": {
        "id": "5_R-hnQ5RiaG"
      }
    },
    {
      "cell_type": "code",
      "source": [
        "# Load Basic information\n",
        "heart_data.info()\n",
        "\n",
        "heart_data.describe()"
      ],
      "metadata": {
        "id": "9HRPzdALRd5A",
        "colab": {
          "base_uri": "https://localhost:8080/",
          "height": 526
        },
        "outputId": "ead1dae8-11b8-471e-b901-865244b50467"
      },
      "execution_count": 5,
      "outputs": [
        {
          "output_type": "stream",
          "name": "stdout",
          "text": [
            "<class 'pandas.core.frame.DataFrame'>\n",
            "RangeIndex: 549 entries, 0 to 548\n",
            "Data columns (total 6 columns):\n",
            " #   Column   Non-Null Count  Dtype  \n",
            "---  ------   --------------  -----  \n",
            " 0   cp       549 non-null    int64  \n",
            " 1   ca       549 non-null    int64  \n",
            " 2   thalach  549 non-null    int64  \n",
            " 3   oldpeak  549 non-null    float64\n",
            " 4   thal     549 non-null    int64  \n",
            " 5   target   549 non-null    int64  \n",
            "dtypes: float64(1), int64(5)\n",
            "memory usage: 25.9 KB\n"
          ]
        },
        {
          "output_type": "execute_result",
          "data": {
            "text/plain": [
              "               cp          ca     thalach     oldpeak        thal      target\n",
              "count  549.000000  549.000000  549.000000  549.000000  549.000000  549.000000\n",
              "mean     0.561020    1.078324  140.845173    1.492532    2.504554    0.094718\n",
              "std      0.942901    1.039048   23.077379    1.288169    0.685138    0.293092\n",
              "min      0.000000    0.000000   71.000000    0.000000    0.000000    0.000000\n",
              "25%      0.000000    0.000000  125.000000    0.300000    2.000000    0.000000\n",
              "50%      0.000000    1.000000  143.000000    1.200000    3.000000    0.000000\n",
              "75%      1.000000    2.000000  160.000000    2.400000    3.000000    0.000000\n",
              "max      3.000000    4.000000  195.000000    6.200000    3.000000    1.000000"
            ],
            "text/html": [
              "\n",
              "  <div id=\"df-8aacf0b4-89bf-41ad-a1b4-b9738851b043\" class=\"colab-df-container\">\n",
              "    <div>\n",
              "<style scoped>\n",
              "    .dataframe tbody tr th:only-of-type {\n",
              "        vertical-align: middle;\n",
              "    }\n",
              "\n",
              "    .dataframe tbody tr th {\n",
              "        vertical-align: top;\n",
              "    }\n",
              "\n",
              "    .dataframe thead th {\n",
              "        text-align: right;\n",
              "    }\n",
              "</style>\n",
              "<table border=\"1\" class=\"dataframe\">\n",
              "  <thead>\n",
              "    <tr style=\"text-align: right;\">\n",
              "      <th></th>\n",
              "      <th>cp</th>\n",
              "      <th>ca</th>\n",
              "      <th>thalach</th>\n",
              "      <th>oldpeak</th>\n",
              "      <th>thal</th>\n",
              "      <th>target</th>\n",
              "    </tr>\n",
              "  </thead>\n",
              "  <tbody>\n",
              "    <tr>\n",
              "      <th>count</th>\n",
              "      <td>549.000000</td>\n",
              "      <td>549.000000</td>\n",
              "      <td>549.000000</td>\n",
              "      <td>549.000000</td>\n",
              "      <td>549.000000</td>\n",
              "      <td>549.000000</td>\n",
              "    </tr>\n",
              "    <tr>\n",
              "      <th>mean</th>\n",
              "      <td>0.561020</td>\n",
              "      <td>1.078324</td>\n",
              "      <td>140.845173</td>\n",
              "      <td>1.492532</td>\n",
              "      <td>2.504554</td>\n",
              "      <td>0.094718</td>\n",
              "    </tr>\n",
              "    <tr>\n",
              "      <th>std</th>\n",
              "      <td>0.942901</td>\n",
              "      <td>1.039048</td>\n",
              "      <td>23.077379</td>\n",
              "      <td>1.288169</td>\n",
              "      <td>0.685138</td>\n",
              "      <td>0.293092</td>\n",
              "    </tr>\n",
              "    <tr>\n",
              "      <th>min</th>\n",
              "      <td>0.000000</td>\n",
              "      <td>0.000000</td>\n",
              "      <td>71.000000</td>\n",
              "      <td>0.000000</td>\n",
              "      <td>0.000000</td>\n",
              "      <td>0.000000</td>\n",
              "    </tr>\n",
              "    <tr>\n",
              "      <th>25%</th>\n",
              "      <td>0.000000</td>\n",
              "      <td>0.000000</td>\n",
              "      <td>125.000000</td>\n",
              "      <td>0.300000</td>\n",
              "      <td>2.000000</td>\n",
              "      <td>0.000000</td>\n",
              "    </tr>\n",
              "    <tr>\n",
              "      <th>50%</th>\n",
              "      <td>0.000000</td>\n",
              "      <td>1.000000</td>\n",
              "      <td>143.000000</td>\n",
              "      <td>1.200000</td>\n",
              "      <td>3.000000</td>\n",
              "      <td>0.000000</td>\n",
              "    </tr>\n",
              "    <tr>\n",
              "      <th>75%</th>\n",
              "      <td>1.000000</td>\n",
              "      <td>2.000000</td>\n",
              "      <td>160.000000</td>\n",
              "      <td>2.400000</td>\n",
              "      <td>3.000000</td>\n",
              "      <td>0.000000</td>\n",
              "    </tr>\n",
              "    <tr>\n",
              "      <th>max</th>\n",
              "      <td>3.000000</td>\n",
              "      <td>4.000000</td>\n",
              "      <td>195.000000</td>\n",
              "      <td>6.200000</td>\n",
              "      <td>3.000000</td>\n",
              "      <td>1.000000</td>\n",
              "    </tr>\n",
              "  </tbody>\n",
              "</table>\n",
              "</div>\n",
              "    <div class=\"colab-df-buttons\">\n",
              "\n",
              "  <div class=\"colab-df-container\">\n",
              "    <button class=\"colab-df-convert\" onclick=\"convertToInteractive('df-8aacf0b4-89bf-41ad-a1b4-b9738851b043')\"\n",
              "            title=\"Convert this dataframe to an interactive table.\"\n",
              "            style=\"display:none;\">\n",
              "\n",
              "  <svg xmlns=\"http://www.w3.org/2000/svg\" height=\"24px\" viewBox=\"0 -960 960 960\">\n",
              "    <path d=\"M120-120v-720h720v720H120Zm60-500h600v-160H180v160Zm220 220h160v-160H400v160Zm0 220h160v-160H400v160ZM180-400h160v-160H180v160Zm440 0h160v-160H620v160ZM180-180h160v-160H180v160Zm440 0h160v-160H620v160Z\"/>\n",
              "  </svg>\n",
              "    </button>\n",
              "\n",
              "  <style>\n",
              "    .colab-df-container {\n",
              "      display:flex;\n",
              "      gap: 12px;\n",
              "    }\n",
              "\n",
              "    .colab-df-convert {\n",
              "      background-color: #E8F0FE;\n",
              "      border: none;\n",
              "      border-radius: 50%;\n",
              "      cursor: pointer;\n",
              "      display: none;\n",
              "      fill: #1967D2;\n",
              "      height: 32px;\n",
              "      padding: 0 0 0 0;\n",
              "      width: 32px;\n",
              "    }\n",
              "\n",
              "    .colab-df-convert:hover {\n",
              "      background-color: #E2EBFA;\n",
              "      box-shadow: 0px 1px 2px rgba(60, 64, 67, 0.3), 0px 1px 3px 1px rgba(60, 64, 67, 0.15);\n",
              "      fill: #174EA6;\n",
              "    }\n",
              "\n",
              "    .colab-df-buttons div {\n",
              "      margin-bottom: 4px;\n",
              "    }\n",
              "\n",
              "    [theme=dark] .colab-df-convert {\n",
              "      background-color: #3B4455;\n",
              "      fill: #D2E3FC;\n",
              "    }\n",
              "\n",
              "    [theme=dark] .colab-df-convert:hover {\n",
              "      background-color: #434B5C;\n",
              "      box-shadow: 0px 1px 3px 1px rgba(0, 0, 0, 0.15);\n",
              "      filter: drop-shadow(0px 1px 2px rgba(0, 0, 0, 0.3));\n",
              "      fill: #FFFFFF;\n",
              "    }\n",
              "  </style>\n",
              "\n",
              "    <script>\n",
              "      const buttonEl =\n",
              "        document.querySelector('#df-8aacf0b4-89bf-41ad-a1b4-b9738851b043 button.colab-df-convert');\n",
              "      buttonEl.style.display =\n",
              "        google.colab.kernel.accessAllowed ? 'block' : 'none';\n",
              "\n",
              "      async function convertToInteractive(key) {\n",
              "        const element = document.querySelector('#df-8aacf0b4-89bf-41ad-a1b4-b9738851b043');\n",
              "        const dataTable =\n",
              "          await google.colab.kernel.invokeFunction('convertToInteractive',\n",
              "                                                    [key], {});\n",
              "        if (!dataTable) return;\n",
              "\n",
              "        const docLinkHtml = 'Like what you see? Visit the ' +\n",
              "          '<a target=\"_blank\" href=https://colab.research.google.com/notebooks/data_table.ipynb>data table notebook</a>'\n",
              "          + ' to learn more about interactive tables.';\n",
              "        element.innerHTML = '';\n",
              "        dataTable['output_type'] = 'display_data';\n",
              "        await google.colab.output.renderOutput(dataTable, element);\n",
              "        const docLink = document.createElement('div');\n",
              "        docLink.innerHTML = docLinkHtml;\n",
              "        element.appendChild(docLink);\n",
              "      }\n",
              "    </script>\n",
              "  </div>\n",
              "\n",
              "\n",
              "<div id=\"df-8fb8e40c-047a-49b3-977b-35886aebaf18\">\n",
              "  <button class=\"colab-df-quickchart\" onclick=\"quickchart('df-8fb8e40c-047a-49b3-977b-35886aebaf18')\"\n",
              "            title=\"Suggest charts\"\n",
              "            style=\"display:none;\">\n",
              "\n",
              "<svg xmlns=\"http://www.w3.org/2000/svg\" height=\"24px\"viewBox=\"0 0 24 24\"\n",
              "     width=\"24px\">\n",
              "    <g>\n",
              "        <path d=\"M19 3H5c-1.1 0-2 .9-2 2v14c0 1.1.9 2 2 2h14c1.1 0 2-.9 2-2V5c0-1.1-.9-2-2-2zM9 17H7v-7h2v7zm4 0h-2V7h2v10zm4 0h-2v-4h2v4z\"/>\n",
              "    </g>\n",
              "</svg>\n",
              "  </button>\n",
              "\n",
              "<style>\n",
              "  .colab-df-quickchart {\n",
              "      --bg-color: #E8F0FE;\n",
              "      --fill-color: #1967D2;\n",
              "      --hover-bg-color: #E2EBFA;\n",
              "      --hover-fill-color: #174EA6;\n",
              "      --disabled-fill-color: #AAA;\n",
              "      --disabled-bg-color: #DDD;\n",
              "  }\n",
              "\n",
              "  [theme=dark] .colab-df-quickchart {\n",
              "      --bg-color: #3B4455;\n",
              "      --fill-color: #D2E3FC;\n",
              "      --hover-bg-color: #434B5C;\n",
              "      --hover-fill-color: #FFFFFF;\n",
              "      --disabled-bg-color: #3B4455;\n",
              "      --disabled-fill-color: #666;\n",
              "  }\n",
              "\n",
              "  .colab-df-quickchart {\n",
              "    background-color: var(--bg-color);\n",
              "    border: none;\n",
              "    border-radius: 50%;\n",
              "    cursor: pointer;\n",
              "    display: none;\n",
              "    fill: var(--fill-color);\n",
              "    height: 32px;\n",
              "    padding: 0;\n",
              "    width: 32px;\n",
              "  }\n",
              "\n",
              "  .colab-df-quickchart:hover {\n",
              "    background-color: var(--hover-bg-color);\n",
              "    box-shadow: 0 1px 2px rgba(60, 64, 67, 0.3), 0 1px 3px 1px rgba(60, 64, 67, 0.15);\n",
              "    fill: var(--button-hover-fill-color);\n",
              "  }\n",
              "\n",
              "  .colab-df-quickchart-complete:disabled,\n",
              "  .colab-df-quickchart-complete:disabled:hover {\n",
              "    background-color: var(--disabled-bg-color);\n",
              "    fill: var(--disabled-fill-color);\n",
              "    box-shadow: none;\n",
              "  }\n",
              "\n",
              "  .colab-df-spinner {\n",
              "    border: 2px solid var(--fill-color);\n",
              "    border-color: transparent;\n",
              "    border-bottom-color: var(--fill-color);\n",
              "    animation:\n",
              "      spin 1s steps(1) infinite;\n",
              "  }\n",
              "\n",
              "  @keyframes spin {\n",
              "    0% {\n",
              "      border-color: transparent;\n",
              "      border-bottom-color: var(--fill-color);\n",
              "      border-left-color: var(--fill-color);\n",
              "    }\n",
              "    20% {\n",
              "      border-color: transparent;\n",
              "      border-left-color: var(--fill-color);\n",
              "      border-top-color: var(--fill-color);\n",
              "    }\n",
              "    30% {\n",
              "      border-color: transparent;\n",
              "      border-left-color: var(--fill-color);\n",
              "      border-top-color: var(--fill-color);\n",
              "      border-right-color: var(--fill-color);\n",
              "    }\n",
              "    40% {\n",
              "      border-color: transparent;\n",
              "      border-right-color: var(--fill-color);\n",
              "      border-top-color: var(--fill-color);\n",
              "    }\n",
              "    60% {\n",
              "      border-color: transparent;\n",
              "      border-right-color: var(--fill-color);\n",
              "    }\n",
              "    80% {\n",
              "      border-color: transparent;\n",
              "      border-right-color: var(--fill-color);\n",
              "      border-bottom-color: var(--fill-color);\n",
              "    }\n",
              "    90% {\n",
              "      border-color: transparent;\n",
              "      border-bottom-color: var(--fill-color);\n",
              "    }\n",
              "  }\n",
              "</style>\n",
              "\n",
              "  <script>\n",
              "    async function quickchart(key) {\n",
              "      const quickchartButtonEl =\n",
              "        document.querySelector('#' + key + ' button');\n",
              "      quickchartButtonEl.disabled = true;  // To prevent multiple clicks.\n",
              "      quickchartButtonEl.classList.add('colab-df-spinner');\n",
              "      try {\n",
              "        const charts = await google.colab.kernel.invokeFunction(\n",
              "            'suggestCharts', [key], {});\n",
              "      } catch (error) {\n",
              "        console.error('Error during call to suggestCharts:', error);\n",
              "      }\n",
              "      quickchartButtonEl.classList.remove('colab-df-spinner');\n",
              "      quickchartButtonEl.classList.add('colab-df-quickchart-complete');\n",
              "    }\n",
              "    (() => {\n",
              "      let quickchartButtonEl =\n",
              "        document.querySelector('#df-8fb8e40c-047a-49b3-977b-35886aebaf18 button');\n",
              "      quickchartButtonEl.style.display =\n",
              "        google.colab.kernel.accessAllowed ? 'block' : 'none';\n",
              "    })();\n",
              "  </script>\n",
              "</div>\n",
              "\n",
              "    </div>\n",
              "  </div>\n"
            ],
            "application/vnd.google.colaboratory.intrinsic+json": {
              "type": "dataframe",
              "summary": "{\n  \"name\": \"heart_data\",\n  \"rows\": 8,\n  \"fields\": [\n    {\n      \"column\": \"cp\",\n      \"properties\": {\n        \"dtype\": \"number\",\n        \"std\": 193.8253554993363,\n        \"min\": 0.0,\n        \"max\": 549.0,\n        \"num_unique_values\": 6,\n        \"samples\": [\n          549.0,\n          0.5610200364298725,\n          3.0\n        ],\n        \"semantic_type\": \"\",\n        \"description\": \"\"\n      }\n    },\n    {\n      \"column\": \"ca\",\n      \"properties\": {\n        \"dtype\": \"number\",\n        \"std\": 193.64450760154142,\n        \"min\": 0.0,\n        \"max\": 549.0,\n        \"num_unique_values\": 7,\n        \"samples\": [\n          549.0,\n          1.0783242258652095,\n          2.0\n        ],\n        \"semantic_type\": \"\",\n        \"description\": \"\"\n      }\n    },\n    {\n      \"column\": \"thalach\",\n      \"properties\": {\n        \"dtype\": \"number\",\n        \"std\": 159.94733280340637,\n        \"min\": 23.07737855407392,\n        \"max\": 549.0,\n        \"num_unique_values\": 8,\n        \"samples\": [\n          140.84517304189436,\n          143.0,\n          549.0\n        ],\n        \"semantic_type\": \"\",\n        \"description\": \"\"\n      }\n    },\n    {\n      \"column\": \"oldpeak\",\n      \"properties\": {\n        \"dtype\": \"number\",\n        \"std\": 193.45980639361588,\n        \"min\": 0.0,\n        \"max\": 549.0,\n        \"num_unique_values\": 8,\n        \"samples\": [\n          1.4925318761384334,\n          1.2,\n          549.0\n        ],\n        \"semantic_type\": \"\",\n        \"description\": \"\"\n      }\n    },\n    {\n      \"column\": \"thal\",\n      \"properties\": {\n        \"dtype\": \"number\",\n        \"std\": 193.38744000052102,\n        \"min\": 0.0,\n        \"max\": 549.0,\n        \"num_unique_values\": 6,\n        \"samples\": [\n          549.0,\n          2.504553734061931,\n          3.0\n        ],\n        \"semantic_type\": \"\",\n        \"description\": \"\"\n      }\n    },\n    {\n      \"column\": \"target\",\n      \"properties\": {\n        \"dtype\": \"number\",\n        \"std\": 194.0310182479038,\n        \"min\": 0.0,\n        \"max\": 549.0,\n        \"num_unique_values\": 5,\n        \"samples\": [\n          0.0947176684881603,\n          1.0,\n          0.2930916290005134\n        ],\n        \"semantic_type\": \"\",\n        \"description\": \"\"\n      }\n    }\n  ]\n}"
            }
          },
          "metadata": {},
          "execution_count": 5
        }
      ]
    },
    {
      "cell_type": "markdown",
      "source": [
        "## TODO: Print the distribution of target variable"
      ],
      "metadata": {
        "id": "DiWLqhyYRqt6"
      }
    },
    {
      "cell_type": "code",
      "source": [
        "value_counts = heart_data['target'].value_counts()\n",
        "\n",
        "proportions = value_counts / len(heart_data)\n",
        "\n",
        "print(\"Proportion of each unique value in the 'target' column in %:\")\n",
        "print(proportions * 100)"
      ],
      "metadata": {
        "id": "mvsvSW3BRuju",
        "colab": {
          "base_uri": "https://localhost:8080/"
        },
        "outputId": "2afcf693-0c26-4743-b69f-fe5d91b0f35a"
      },
      "execution_count": 6,
      "outputs": [
        {
          "output_type": "stream",
          "name": "stdout",
          "text": [
            "Proportion of each unique value in the 'target' column in %:\n",
            "target\n",
            "0    90.528233\n",
            "1     9.471767\n",
            "Name: count, dtype: float64\n"
          ]
        }
      ]
    },
    {
      "cell_type": "markdown",
      "source": [
        "**Question**: Is the dataset imbalanced?\n",
        "\n",
        "**Answer**: Yes, the dataset appears imbalanced because the proportion of value 0 (90.5%) is much higher than value 1 (9.5%)"
      ],
      "metadata": {
        "id": "ljE3aV8bFdIH"
      }
    },
    {
      "cell_type": "markdown",
      "source": [
        "## TODO: Plot histograms of numerical attributes"
      ],
      "metadata": {
        "id": "IM5wh_fiRx39"
      }
    },
    {
      "cell_type": "code",
      "source": [
        "#select numerical columns\n",
        "numerical_cols = heart_data.select_dtypes(include=['number']).columns\n",
        "\n",
        "# Plotting histograms for numerical attributes\n",
        "heart_data[numerical_cols].hist(bins=30, figsize=(15, 10))\n",
        "plt.suptitle('Histograms for Numerical Attributes')\n",
        "plt.show()\n",
        "\n",
        "#checking skewness\n",
        "skewness = heart_data[numerical_cols].skew()\n",
        "threshold = 0.5\n",
        "skewed_features = skewness[abs(skewness) > threshold]\n",
        "print(skewness)\n",
        "print(\"\\nSkewed Features:\\n\", skewed_features)"
      ],
      "metadata": {
        "id": "nE9sgB6kR2BV",
        "colab": {
          "base_uri": "https://localhost:8080/",
          "height": 1000
        },
        "outputId": "9a027b0b-a8e6-4806-bd18-5713c4fdb03f"
      },
      "execution_count": 7,
      "outputs": [
        {
          "output_type": "display_data",
          "data": {
            "text/plain": [
              "<Figure size 1500x1000 with 6 Axes>"
            ],
            "image/png": "[encoded data removed]"
          },
          "metadata": {}
        },
        {
          "output_type": "stream",
          "name": "stdout",
          "text": [
            "cp         1.369990\n",
            "ca         0.587301\n",
            "thalach   -0.327264\n",
            "oldpeak    0.790790\n",
            "thal      -1.212341\n",
            "target     2.775679\n",
            "dtype: float64\n",
            "\n",
            "Skewed Features:\n",
            " cp         1.369990\n",
            "ca         0.587301\n",
            "oldpeak    0.790790\n",
            "thal      -1.212341\n",
            "target     2.775679\n",
            "dtype: float64\n"
          ]
        }
      ]
    },
    {
      "cell_type": "markdown",
      "source": [
        "**Question:** Which of the features are skewed? Also, mention if they are left-skewed or right-skewed\n",
        "\n",
        "**Answer:**\n",
        "**cp, ca, oldpeak & target** are **right-skewe**d\n",
        "while **thal** is **left-skewed**"
      ],
      "metadata": {
        "id": "oWqAuoRCKYfl"
      }
    },
    {
      "cell_type": "markdown",
      "source": [
        "## TODO: Visualise the correlation matrix"
      ],
      "metadata": {
        "id": "omFg8-_BR5jp"
      }
    },
    {
      "cell_type": "code",
      "source": [
        "# Correlation matrix\n",
        "correlation_matrix = heart_data.corr()\n",
        "\n",
        "plt.figure(figsize=(10, 8))\n",
        "sns.heatmap(correlation_matrix, annot=True, cmap='coolwarm', fmt='.2f')\n",
        "plt.title('Correlation Matrix')\n",
        "plt.show()\n",
        "\n",
        "target_correlation = correlation_matrix['target']\n",
        "print(\"Correlations with the Target Variable:\\n\", target_correlation)"
      ],
      "metadata": {
        "id": "rWIhp6ruR8_d",
        "colab": {
          "base_uri": "https://localhost:8080/",
          "height": 838
        },
        "outputId": "79f84181-66ca-4321-ab0c-9229e493fd23"
      },
      "execution_count": 8,
      "outputs": [
        {
          "output_type": "display_data",
          "data": {
            "text/plain": [
              "<Figure size 1000x800 with 2 Axes>"
            ],
            "image/png": "[encoded data removed]"
          },
          "metadata": {}
        },
        {
          "output_type": "stream",
          "name": "stdout",
          "text": [
            "Correlations with the Target Variable:\n",
            " cp         0.256380\n",
            "ca        -0.246113\n",
            "thalach    0.233654\n",
            "oldpeak   -0.259604\n",
            "thal      -0.156637\n",
            "target     1.000000\n",
            "Name: target, dtype: float64\n"
          ]
        }
      ]
    },
    {
      "cell_type": "markdown",
      "source": [
        "**Question**: Is there a high correlation with features or with the target variable\n",
        "\n",
        "**Answer**: There are no very high correlations (greater than ±0.7) either among the features themselves or between the features and the target variable. The moderate correlations (around ±0.25) with the target variable can be considered potentially important for predictive modeling but are not strong enough to indicate redundancy among the features."
      ],
      "metadata": {
        "id": "lBKjarA2Mw3Y"
      }
    },
    {
      "cell_type": "markdown",
      "source": [
        "# TODO: Scale the features"
      ],
      "metadata": {
        "id": "2l499pqLSA_J"
      }
    },
    {
      "cell_type": "code",
      "source": [
        "# Scaling features\n",
        "target_column = heart_data['target']\n",
        "features = heart_data.drop(columns=['target'])\n",
        "\n",
        "scaler = StandardScaler()\n",
        "scaled_features = scaler.fit_transform(features)\n",
        "\n",
        "# Convert Scaled Data back into DataFrame\n",
        "scaled_heart_data = pd.DataFrame(scaled_features, columns=features.columns)\n"
      ],
      "metadata": {
        "id": "RT8fm7uJmvzu"
      },
      "execution_count": 9,
      "outputs": []
    },
    {
      "cell_type": "markdown",
      "source": [
        "**Question**: Why is this step important?\n",
        "\n",
        "**Answer**: Since the target variable represents the outcome or response variable that we are trying to predict, separating the target column before scaling is important so that the information from the target variable doesn't affect the training process."
      ],
      "metadata": {
        "id": "fNYgDF79Py8N"
      }
    },
    {
      "cell_type": "code",
      "source": [
        "#Report the mean and standard deviation of the scaled features\n",
        "print(\"Mean of Scaled Features:\\n\", scaled_heart_data.mean())\n",
        "print(\"\\nStandard Deviation of Scaled Features:\\n\", scaled_heart_data.std())"
      ],
      "metadata": {
        "colab": {
          "base_uri": "https://localhost:8080/"
        },
        "id": "S5DZSaCQkAQL",
        "outputId": "d7ff1c95-de22-4dad-b821-c9cca053abe7"
      },
      "execution_count": 10,
      "outputs": [
        {
          "output_type": "stream",
          "name": "stdout",
          "text": [
            "Mean of Scaled Features:\n",
            " cp         2.912060e-17\n",
            "ca        -2.264936e-17\n",
            "thalach   -1.132468e-16\n",
            "oldpeak    9.059743e-17\n",
            "thal      -6.471245e-17\n",
            "dtype: float64\n",
            "\n",
            "Standard Deviation of Scaled Features:\n",
            " cp         1.000912\n",
            "ca         1.000912\n",
            "thalach    1.000912\n",
            "oldpeak    1.000912\n",
            "thal       1.000912\n",
            "dtype: float64\n"
          ]
        }
      ]
    },
    {
      "cell_type": "markdown",
      "source": [
        "# TODO: Create the training and testing datasets"
      ],
      "metadata": {
        "id": "z5DcwmSlSIdh"
      }
    },
    {
      "cell_type": "code",
      "source": [
        "# create training and testing dataset\n",
        "X = scaled_heart_data\n",
        "y = target_column\n",
        "\n",
        "X_train, X_test, y_train, y_test = train_test_split(X, y, test_size=0.2, stratify=y, random_state=25)\n",
        "print(\"Shape of X_train:\", X_train.shape)\n",
        "print(\"Shape of X_test:\", X_test.shape)\n",
        "print(\"Shape of y_train:\", y_train.shape)\n",
        "print(\"Shape of y_test:\", y_test.shape)"
      ],
      "metadata": {
        "id": "vc-cLIehSMvH",
        "colab": {
          "base_uri": "https://localhost:8080/"
        },
        "outputId": "acc58db9-7f2d-4b0c-ef69-ea9286ff988e"
      },
      "execution_count": 11,
      "outputs": [
        {
          "output_type": "stream",
          "name": "stdout",
          "text": [
            "Shape of X_train: (439, 5)\n",
            "Shape of X_test: (110, 5)\n",
            "Shape of y_train: (439,)\n",
            "Shape of y_test: (110,)\n"
          ]
        }
      ]
    },
    {
      "cell_type": "markdown",
      "source": [
        "# TODO: Train all the models"
      ],
      "metadata": {
        "id": "wYX9Nux-SWdI"
      }
    },
    {
      "cell_type": "code",
      "source": [
        "models = {\n",
        "    \"KNN_Set1\": KNeighborsClassifier(n_neighbors=3, weights='uniform'),\n",
        "    \"KNN_Set2\": KNeighborsClassifier(n_neighbors=10, weights='uniform', p=2),\n",
        "    \"KNN_Set3\": KNeighborsClassifier(n_neighbors=15, weights='distance', p=1),\n",
        "    \"DecisionTree_Set1\": DecisionTreeClassifier(max_depth=3, min_samples_split=2, random_state=25),\n",
        "    \"DecisionTree_Set2\": DecisionTreeClassifier(max_depth=10, min_samples_leaf=2, random_state=25),\n",
        "    \"DecisionTree_Set3\": DecisionTreeClassifier(criterion='entropy', max_depth=20, min_samples_leaf=4, random_state=25),\n",
        "    \"RandomForest_Set1\": RandomForestClassifier(n_estimators=50, max_features='auto', random_state=25),\n",
        "    \"RandomForest_Set2\": RandomForestClassifier(n_estimators=200, max_depth=10, max_features='log2', random_state=25),\n",
        "    \"RandomForest_Set3\": RandomForestClassifier(n_estimators=350, max_depth=20, min_samples_split=3, random_state=25),\n",
        "    \"XGBoost_Set1\": XGBClassifier(learning_rate=0.01, max_depth=3, n_estimators=50, random_state=25),\n",
        "    \"XGBoost_Set2\": XGBClassifier(learning_rate=0.15, max_depth=10, n_estimators=150, random_state=25),\n",
        "    \"XGBoost_Set3\": XGBClassifier(learning_rate=0.25, max_depth=15, n_estimators=250, random_state=25)\n",
        "}\n",
        "\n",
        "# Train and evaluate each model\n",
        "for name, model in models.items():\n",
        "    # Train model\n",
        "    model.fit(X_train, y_train)\n",
        "\n",
        "    # Predictiong training data\n",
        "    y_train_pred = model.predict(X_train)\n",
        "\n",
        "    # Predicting testing data\n",
        "    y_test_pred = model.predict(X_test)\n",
        "\n",
        "    # Accuracy scores\n",
        "    train_accuracy = accuracy_score(y_train, y_train_pred)\n",
        "    test_accuracy = accuracy_score(y_test, y_test_pred)\n",
        "\n",
        "    # Confusion matrices\n",
        "    train_confusion = confusion_matrix(y_train, y_train_pred)\n",
        "    test_confusion = confusion_matrix(y_test, y_test_pred)\n",
        "\n",
        "    # Print results\n",
        "    print(f\"Model: {name}\")\n",
        "    print(f\"Training Accuracy: {train_accuracy:.4f}\")\n",
        "    print(f\"Testing Accuracy: {test_accuracy:.4f}\")\n",
        "    print(\"Training Confusion Matrix:\")\n",
        "    print(train_confusion)\n",
        "    print(\"Testing Confusion Matrix:\")\n",
        "    print(test_confusion)\n",
        "    print(\"\\n\")\n"
      ],
      "metadata": {
        "id": "QHSL9EaymzF2",
        "colab": {
          "base_uri": "https://localhost:8080/"
        },
        "outputId": "e4f0b4f6-af94-44b0-aa19-300a3297659e"
      },
      "execution_count": 12,
      "outputs": [
        {
          "output_type": "stream",
          "name": "stdout",
          "text": [
            "Model: KNN_Set1\n",
            "Training Accuracy: 0.9749\n",
            "Testing Accuracy: 0.9455\n",
            "Training Confusion Matrix:\n",
            "[[397   0]\n",
            " [ 11  31]]\n",
            "Testing Confusion Matrix:\n",
            "[[100   0]\n",
            " [  6   4]]\n",
            "\n",
            "\n",
            "Model: KNN_Set2\n",
            "Training Accuracy: 0.9339\n",
            "Testing Accuracy: 0.9455\n",
            "Training Confusion Matrix:\n",
            "[[397   0]\n",
            " [ 29  13]]\n",
            "Testing Confusion Matrix:\n",
            "[[100   0]\n",
            " [  6   4]]\n",
            "\n",
            "\n",
            "Model: KNN_Set3\n",
            "Training Accuracy: 0.9954\n",
            "Testing Accuracy: 0.9455\n",
            "Training Confusion Matrix:\n",
            "[[397   0]\n",
            " [  2  40]]\n",
            "Testing Confusion Matrix:\n",
            "[[100   0]\n",
            " [  6   4]]\n",
            "\n",
            "\n",
            "Model: DecisionTree_Set1\n",
            "Training Accuracy: 0.9339\n",
            "Testing Accuracy: 0.9091\n",
            "Training Confusion Matrix:\n",
            "[[391   6]\n",
            " [ 23  19]]\n",
            "Testing Confusion Matrix:\n",
            "[[96  4]\n",
            " [ 6  4]]\n",
            "\n",
            "\n",
            "Model: DecisionTree_Set2\n",
            "Training Accuracy: 0.9818\n",
            "Testing Accuracy: 0.9455\n",
            "Training Confusion Matrix:\n",
            "[[397   0]\n",
            " [  8  34]]\n",
            "Testing Confusion Matrix:\n",
            "[[100   0]\n",
            " [  6   4]]\n",
            "\n",
            "\n",
            "Model: DecisionTree_Set3\n",
            "Training Accuracy: 0.9590\n",
            "Testing Accuracy: 0.9182\n",
            "Training Confusion Matrix:\n",
            "[[393   4]\n",
            " [ 14  28]]\n",
            "Testing Confusion Matrix:\n",
            "[[96  4]\n",
            " [ 5  5]]\n",
            "\n",
            "\n"
          ]
        },
        {
          "output_type": "stream",
          "name": "stderr",
          "text": [
            "/usr/local/lib/python3.10/dist-packages/sklearn/ensemble/_forest.py:424: FutureWarning: `max_features='auto'` has been deprecated in 1.1 and will be removed in 1.3. To keep the past behaviour, explicitly set `max_features='sqrt'` or remove this parameter as it is also the default value for RandomForestClassifiers and ExtraTreesClassifiers.\n",
            "  warn(\n"
          ]
        },
        {
          "output_type": "stream",
          "name": "stdout",
          "text": [
            "Model: RandomForest_Set1\n",
            "Training Accuracy: 0.9954\n",
            "Testing Accuracy: 0.9545\n",
            "Training Confusion Matrix:\n",
            "[[397   0]\n",
            " [  2  40]]\n",
            "Testing Confusion Matrix:\n",
            "[[100   0]\n",
            " [  5   5]]\n",
            "\n",
            "\n",
            "Model: RandomForest_Set2\n",
            "Training Accuracy: 0.9954\n",
            "Testing Accuracy: 0.9545\n",
            "Training Confusion Matrix:\n",
            "[[397   0]\n",
            " [  2  40]]\n",
            "Testing Confusion Matrix:\n",
            "[[100   0]\n",
            " [  5   5]]\n",
            "\n",
            "\n",
            "Model: RandomForest_Set3\n",
            "Training Accuracy: 0.9954\n",
            "Testing Accuracy: 0.9545\n",
            "Training Confusion Matrix:\n",
            "[[397   0]\n",
            " [  2  40]]\n",
            "Testing Confusion Matrix:\n",
            "[[100   0]\n",
            " [  5   5]]\n",
            "\n",
            "\n",
            "Model: XGBoost_Set1\n",
            "Training Accuracy: 0.9043\n",
            "Testing Accuracy: 0.9091\n",
            "Training Confusion Matrix:\n",
            "[[397   0]\n",
            " [ 42   0]]\n",
            "Testing Confusion Matrix:\n",
            "[[100   0]\n",
            " [ 10   0]]\n",
            "\n",
            "\n",
            "Model: XGBoost_Set2\n",
            "Training Accuracy: 0.9954\n",
            "Testing Accuracy: 0.9636\n",
            "Training Confusion Matrix:\n",
            "[[397   0]\n",
            " [  2  40]]\n",
            "Testing Confusion Matrix:\n",
            "[[100   0]\n",
            " [  4   6]]\n",
            "\n",
            "\n",
            "Model: XGBoost_Set3\n",
            "Training Accuracy: 0.9954\n",
            "Testing Accuracy: 0.9636\n",
            "Training Confusion Matrix:\n",
            "[[397   0]\n",
            " [  2  40]]\n",
            "Testing Confusion Matrix:\n",
            "[[100   0]\n",
            " [  4   6]]\n",
            "\n",
            "\n"
          ]
        }
      ]
    },
    {
      "cell_type": "markdown",
      "source": [
        "Additional Insights:\n",
        "\n",
        "**KNN_Set1** : This model has high training and testing accuracy, suggesting it generalizes well. The confusion matrices indicate good performance but with some misclassifications of the minority class (class 1)\n",
        "\n",
        "**KNN_Set2** : Slightly lower training accuracy compared to KNN_Set1, but same testing accuracy. It misclassifies more samples in the training set compared to KNN_Set1.\n",
        "\n",
        "**KNN_Set3** : Very high training accuracy, indicating potential overfitting. Testing accuracy remains the same, but it performs slightly better on the minority class in the training set\n",
        "\n",
        "**DecisionTree_Set1** : Moderate performance with reasonable training accuracy and slightly lower testing accuracy. Shows some misclassification, indicating it may not be capturing all patterns in the data.\n",
        "\n",
        "**DecisionTree_Set2** : Higher training accuracy, improved performance on the minority class compared to Set1. Testing accuracy is good, but still misclassifies some minority class samples.\n",
        "\n",
        "**DecisionTree_Set3** : High training accuracy, indicating potential overfitting. Testing accuracy is lower, with misclassifications in both classes.\n",
        "\n",
        "**RandomForest_Set1** : Excellent performance with high training and testing accuracy. Balanced performance on minority class, showing robustness.\n",
        "\n",
        "**RandomForest_Set2** : Similar to Set1, excellent performance with high accuracy and balanced confusion matrix.\n",
        "\n",
        "**RandomForest_Set3** : Similar to Set1 and Set2, showing robustness across different hyperparameters.\n",
        "\n",
        "**XGBoost_Set1** : Lower accuracy, particularly struggles with the minority class, indicating poor performance.\n",
        "\n",
        "**XGBoost_Set2** : Excellent performance with high accuracy and better handling of the minority class compared to Set1.\n",
        "\n",
        "**XGBoost_Set3** : Similar to Set2, excellent performance and robustness across different hyperparameters.\n",
        "\n",
        "In summary, **XGBoost_Set2** and **XGBoost_Set3** both have the highest testing accuracy (0.9636) and good performance on the minority class and **RandomForest_Set1**, **Set2**, and **Set3** all have high testing accuracy (0.9545) and balanced performance, indicating robustness. Contrastly, **XGBoost_Set1** has Low accuracy and poor handling of the minority class while **DecisionTree_Set1** and **Set3** have lower testing accuracy and misclassifications. **KNN_Set3**, **DecisionTree_Set2** might suggest potential overfitting because they shows very high training accuracy but slightly lower testing accuracy."
      ],
      "metadata": {
        "id": "dy5I3t8Xpk7A"
      }
    },
    {
      "cell_type": "markdown",
      "source": [
        "**Question 5.8**: What are the potential challenges that exist with working with real-world healthcare data for machine learning applications?\n",
        "\n",
        "**Answer**: Healthcare data is high-dimensional (with large number of features) and multimodal (in different forms). This complicates data integration and processing. Annotating such complex data, especially medical images, requires expert domain knowledge and is often time-consuming and costly.\n",
        "\n",
        "In addition, biases might also exist in data collection, say for example, data from healthy people and unhealthy conduction the same test, or people who have genetic advantages over those who don't. These biases can lead to unfair and inaccurate models.\n",
        "\n",
        "Lastly, publicly accessing healthcare data might pose a problem, since patient-doctor confidentiality is key. Healthcare data are not readily available for unauthorized ML enthusiasts to train and test."
      ],
      "metadata": {
        "id": "nOUhBi-tuFVG"
      }
    }
  ]
}