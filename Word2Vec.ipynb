{
  "nbformat": 4,
  "nbformat_minor": 0,
  "metadata": {
    "colab": {
      "provenance": [],
      "gpuType": "T4",
      "include_colab_link": true
    },
    "kernelspec": {
      "name": "python3",
      "display_name": "Python 3"
    },
    "language_info": {
      "name": "python"
    },
    "accelerator": "GPU"
  },
  "cells": [
    {
      "cell_type": "markdown",
      "metadata": {
        "id": "view-in-github",
        "colab_type": "text"
      },
      "source": [
        "<a href=\"https://colab.research.google.com/github/mr-nudo/intelligent-tools/blob/master/Word2Vec.ipynb\" target=\"_parent\"><img src=\"https://colab.research.google.com/assets/colab-badge.svg\" alt=\"Open In Colab\"/></a>"
      ]
    },
    {
      "cell_type": "markdown",
      "source": [
        "# Importing libraries"
      ],
      "metadata": {
        "id": "gqeGGFcnokoh"
      }
    },
    {
      "cell_type": "code",
      "execution_count": 82,
      "metadata": {
        "id": "31x1tVfgdmZq"
      },
      "outputs": [],
      "source": [
        "import numpy as np\n",
        "import os\n",
        "import tensorflow as tf\n",
        "from tensorflow.keras.models import Model\n",
        "from tensorflow.keras.layers import Input, Embedding, Dense, Lambda, Average\n",
        "from tensorflow.keras.preprocessing.sequence import pad_sequences\n",
        "from tensorflow.keras.utils import to_categorical\n",
        "import tensorflow.keras.backend as K\n",
        "\n",
        "from sklearn.model_selection import train_test_split\n",
        "import matplotlib.pyplot as plt\n",
        "\n",
        "import random"
      ]
    },
    {
      "cell_type": "markdown",
      "source": [
        "# Set random seed"
      ],
      "metadata": {
        "id": "O2FiqCLjvCbL"
      }
    },
    {
      "cell_type": "code",
      "source": [
        "# Set environment variables\n",
        "os.environ['PYTHONHASHSEED'] = str(25)\n",
        "os.environ['TF_DETERMINISTIC_OPS'] = '1'\n",
        "os.environ['TF_CUDNN_DETERMINISTIC'] = '1'\n",
        "\n",
        "# Set seed values\n",
        "np.random.seed(25)\n",
        "tf.random.set_seed(25)\n",
        "random.seed(25)"
      ],
      "metadata": {
        "id": "ziEj8ly6vE9r"
      },
      "execution_count": 83,
      "outputs": []
    },
    {
      "cell_type": "markdown",
      "source": [
        "# TODO: Preprocess"
      ],
      "metadata": {
        "id": "9tT4SznWvOMV"
      }
    },
    {
      "cell_type": "code",
      "source": [
        "# Preprocess the text\n",
        "def preprocess(text):\n",
        "    lowercase_text = text.lower()\n",
        "    words = lowercase_text.split()\n",
        "    # words = [word for word in words if word.isalpha()]\n",
        "    return words\n"
      ],
      "metadata": {
        "id": "fuuTn2EzvREK"
      },
      "execution_count": 84,
      "outputs": []
    },
    {
      "cell_type": "markdown",
      "source": [
        "# TODO: Build Vocabulary and training data"
      ],
      "metadata": {
        "id": "0Wi3Pk-5vVd7"
      }
    },
    {
      "cell_type": "code",
      "source": [
        "# Build vocabulary and generate training data\n",
        "def build_and_prepare_data(words, window_size):\n",
        "    # Build vocabulary\n",
        "    # vocab = {}\n",
        "    # word_index = 0  # Index for unique words\n",
        "    # for word in set(words):\n",
        "    #     vocab[word] = word_index\n",
        "    #     word_index += 1\n",
        "    # vocab_size = len(vocab)\n",
        "    # # word_to_index = {v: k for k, v in vocab.items()}\n",
        "\n",
        "    # # Generate context-target pairs\n",
        "    # contexts = []\n",
        "    # targets = []\n",
        "    # for i in range(window_size, len(words) - window_size):\n",
        "    #     context = words[i - window_size:i] + words[i + 1:i + window_size + 1]\n",
        "    #     target = words[i]\n",
        "    #     contexts.append(context)\n",
        "    #     targets.append(target)\n",
        "\n",
        "    vocab = set(words)\n",
        "    word_to_index = {word: index for index, word in enumerate(vocab)}\n",
        "\n",
        "    contexts = []\n",
        "    targets = []\n",
        "    for i in range(window_size, len(words) - window_size):\n",
        "        context = [word_to_index[words[i - j]] for j in range(1, window_size + 1)] + \\\n",
        "                  [word_to_index[words[i + j]] for j in range(1, window_size + 1)]\n",
        "        target = word_to_index[words[i]]\n",
        "        contexts.append(context)\n",
        "        targets.append(target)\n",
        "\n",
        "    # contexts2 = []\n",
        "    # targets2 = []\n",
        "    # for i in range(window_size, len(words) - window_size):\n",
        "    #     context2 = words[i - window_size:i] + words[i + 1:i + window_size + 1]\n",
        "    #     target2 = words[i]\n",
        "    #     contexts2.append(context2)\n",
        "    #     targets2.append(target2)\n",
        "\n",
        "    # Extract contexts and targets from data\n",
        "    # contexts = [word_to_index[word] for word in contexts]\n",
        "    # targets = [word_to_index[target] for target in targets]\n",
        "    contexts = np.array(contexts)\n",
        "    targets = np.array(targets)\n",
        "    # contexts2 = np.array(contexts2)\n",
        "    # targets2 = np.array(targets2)\n",
        "\n",
        "    # print(contexts.shape)\n",
        "    # print(targets.shape)\n",
        "    # print(contexts2.shape)\n",
        "    # print(targets2.shape)\n",
        "\n",
        "    # Prepare contexts and targets for training by padding and one-hot encoding\n",
        "    max_context_len = max(len(context) for context in contexts)\n",
        "    contexts = pad_sequences(contexts, maxlen=max_context_len, padding='post')\n",
        "    targets = to_categorical(targets, num_classes=len(vocab))\n",
        "\n",
        "    return vocab, contexts, targets"
      ],
      "metadata": {
        "id": "b1oDT32ovXyG"
      },
      "execution_count": 85,
      "outputs": []
    },
    {
      "cell_type": "markdown",
      "source": [
        "# TODO: Build CBOW model"
      ],
      "metadata": {
        "id": "EZzb-mKEvjt6"
      }
    },
    {
      "cell_type": "code",
      "source": [
        "# Define CBOW model function\n",
        "def build_cbow_model(vocab_size, embed_size, window_size):\n",
        "    # Define the model architecture\n",
        "    # inputs = Input(shape=(window_size,))\n",
        "\n",
        "    # # Embedding layer to convert words into vectors\n",
        "    # embeddings = Embedding(vocab_size, embed_size)(inputs)\n",
        "\n",
        "    # # Average layer to combine context word vectors\n",
        "    # average = Average()(embeddings)\n",
        "\n",
        "    # # Output layer with softmax for predicting target word\n",
        "    # outputs = Dense(vocab_size, activation='softmax')(average)\n",
        "\n",
        "    # # Compiling model\n",
        "    # model = tf.keras.Model(inputs=inputs, outputs=outputs)\n",
        "    # model.compile(loss='categorical_crossentropy', optimizer='adam', metrics=['accuracy'])\n",
        "\n",
        "    #------------------------------------#\n",
        "\n",
        "    # Total context size is 2 * window_size (context words on each side of the target word)\n",
        "    context_size = 2 * window_size\n",
        "\n",
        "    # Define input layer\n",
        "    input_layer = Input(shape=(context_size,), dtype='int32', name='context_words')\n",
        "\n",
        "    # Define embedding layer\n",
        "    embedding_layer = Embedding(input_dim=vocab_size, output_dim=embed_size, input_length=context_size, name='embedding')\n",
        "    embedded_context = embedding_layer(input_layer)\n",
        "\n",
        "    # Average the embeddings\n",
        "    averaging_layer = Lambda(lambda x: tf.reduce_mean(x, axis=1), name='averaging')\n",
        "    averaged_context = averaging_layer(embedded_context)\n",
        "\n",
        "    # Define output layer with softmax activation\n",
        "    output_layer = Dense(vocab_size, activation='softmax', name='output')\n",
        "    output = output_layer(averaged_context)\n",
        "\n",
        "    # Build the model\n",
        "    model = Model(inputs=input_layer, outputs=output)\n",
        "\n",
        "    # Compile the model\n",
        "    model.compile(optimizer='adam', loss='categorical_crossentropy', metrics=['accuracy'])\n",
        "\n",
        "    # Print model summary\n",
        "    model.summary()\n",
        "\n",
        "    return model"
      ],
      "metadata": {
        "id": "DR_mXHgbvltf"
      },
      "execution_count": 86,
      "outputs": []
    },
    {
      "cell_type": "markdown",
      "source": [
        "# TODO: Set file path"
      ],
      "metadata": {
        "id": "0Oq50BtE1lWe"
      }
    },
    {
      "cell_type": "code",
      "source": [
        "# import file path\n",
        "# from google.colab import drive\n",
        "# drive.mount('/content/drive')\n",
        "file_path = '/content/small_corpus.txt'"
      ],
      "metadata": {
        "id": "7fek7pgq1oSf"
      },
      "execution_count": 87,
      "outputs": []
    },
    {
      "cell_type": "markdown",
      "source": [
        "# Running the helper functions"
      ],
      "metadata": {
        "id": "_pHa3gGV1tIq"
      }
    },
    {
      "cell_type": "code",
      "source": [
        "# Read the file\n",
        "with open(file_path, 'r', encoding='utf-8') as file:\n",
        "    text = file.read()\n",
        "\n",
        "words = preprocess(text)\n",
        "\n",
        "# Print vocabulary size\n",
        "print(f\"Number of words: {len(words)}\")\n",
        "\n",
        "# Model parameters\n",
        "window_size = 2\n",
        "\n",
        "# Prepare dataset\n",
        "vocab, contexts, targets = build_and_prepare_data(words, window_size)\n",
        "\n",
        "vocab_size = len(vocab)\n",
        "# Print vocabulary size\n",
        "print(f\"Vocabulary size: {vocab_size}\")\n",
        "\n",
        "# Print lengths of contexts and targets\n",
        "print(f\"Length of contexts array: {len(contexts)}\")\n",
        "print(f\"Length of targets array: {len(targets)}\")"
      ],
      "metadata": {
        "id": "h1VnZMEUvqW5",
        "colab": {
          "base_uri": "https://localhost:8080/"
        },
        "outputId": "5ce89767-a92a-4915-827a-db69e5a415d0"
      },
      "execution_count": 88,
      "outputs": [
        {
          "output_type": "stream",
          "name": "stdout",
          "text": [
            "Number of words: 280000\n",
            "Vocabulary size: 28\n",
            "Length of contexts array: 279996\n",
            "Length of targets array: 279996\n"
          ]
        }
      ]
    },
    {
      "cell_type": "markdown",
      "source": [
        "# Split the data inton training and validation sets"
      ],
      "metadata": {
        "id": "JAeFt_mZwejS"
      }
    },
    {
      "cell_type": "code",
      "source": [
        "# Splitting the data\n",
        "contexts_train, contexts_val, targets_train, targets_val = train_test_split(contexts, targets, test_size=0.2, random_state=25)\n",
        "\n",
        "embed_size = 2"
      ],
      "metadata": {
        "id": "EKaUyZlSvzU3"
      },
      "execution_count": 89,
      "outputs": []
    },
    {
      "cell_type": "markdown",
      "source": [
        "# Train the model"
      ],
      "metadata": {
        "id": "7w_SJZcawmFB"
      }
    },
    {
      "cell_type": "code",
      "source": [
        "# Create and train the model\n",
        "model = build_cbow_model(vocab_size, embed_size, window_size)\n",
        "history = model.fit(contexts_train, targets_train, validation_data=(contexts_val, targets_val), epochs=7, verbose=1)\n"
      ],
      "metadata": {
        "id": "M8SK57mFwa0t",
        "colab": {
          "base_uri": "https://localhost:8080/"
        },
        "outputId": "d806050f-f566-4307-b533-ae7e382b6bd3"
      },
      "execution_count": 90,
      "outputs": [
        {
          "output_type": "stream",
          "name": "stdout",
          "text": [
            "Model: \"model_1\"\n",
            "_________________________________________________________________\n",
            " Layer (type)                Output Shape              Param #   \n",
            "=================================================================\n",
            " context_words (InputLayer)  [(None, 4)]               0         \n",
            "                                                                 \n",
            " embedding (Embedding)       (None, 4, 2)              56        \n",
            "                                                                 \n",
            " averaging (Lambda)          (None, 2)                 0         \n",
            "                                                                 \n",
            " output (Dense)              (None, 28)                84        \n",
            "                                                                 \n",
            "=================================================================\n",
            "Total params: 140 (560.00 Byte)\n",
            "Trainable params: 140 (560.00 Byte)\n",
            "Non-trainable params: 0 (0.00 Byte)\n",
            "_________________________________________________________________\n",
            "Epoch 1/7\n",
            "7000/7000 [==============================] - 17s 2ms/step - loss: 2.3490 - accuracy: 0.1186 - val_loss: 2.2218 - val_accuracy: 0.1339\n",
            "Epoch 2/7\n",
            "7000/7000 [==============================] - 16s 2ms/step - loss: 2.2115 - accuracy: 0.1387 - val_loss: 2.2072 - val_accuracy: 0.1393\n",
            "Epoch 3/7\n",
            "7000/7000 [==============================] - 15s 2ms/step - loss: 2.2044 - accuracy: 0.1429 - val_loss: 2.2025 - val_accuracy: 0.1420\n",
            "Epoch 4/7\n",
            "7000/7000 [==============================] - 15s 2ms/step - loss: 2.1981 - accuracy: 0.1470 - val_loss: 2.1946 - val_accuracy: 0.1494\n",
            "Epoch 5/7\n",
            "7000/7000 [==============================] - 15s 2ms/step - loss: 2.1907 - accuracy: 0.1501 - val_loss: 2.1878 - val_accuracy: 0.1446\n",
            "Epoch 6/7\n",
            "7000/7000 [==============================] - 15s 2ms/step - loss: 2.1850 - accuracy: 0.1506 - val_loss: 2.1826 - val_accuracy: 0.1497\n",
            "Epoch 7/7\n",
            "7000/7000 [==============================] - 16s 2ms/step - loss: 2.1814 - accuracy: 0.1509 - val_loss: 2.1797 - val_accuracy: 0.1525\n"
          ]
        }
      ]
    },
    {
      "cell_type": "markdown",
      "source": [
        "# TODO: Visualise the Training and Validation loss"
      ],
      "metadata": {
        "id": "ARDpEQEYwqeS"
      }
    },
    {
      "cell_type": "code",
      "source": [
        "# Plotting the training and validation loss\n",
        "plt.figure()\n",
        "plt.plot(history.history['loss'], label='Training Loss')\n",
        "plt.plot(history.history['val_loss'], label='Validation Loss')\n",
        "plt.title('Training and Validation Loss')\n",
        "plt.xlabel('Epochs')\n",
        "plt.ylabel('Loss')\n",
        "plt.legend()\n",
        "plt.show()"
      ],
      "metadata": {
        "id": "knS04YQgwvBa",
        "colab": {
          "base_uri": "https://localhost:8080/",
          "height": 472
        },
        "outputId": "2da1c249-de62-4e03-8ffe-bdc900666c62"
      },
      "execution_count": 91,
      "outputs": [
        {
          "output_type": "display_data",
          "data": {
            "text/plain": [
              "<Figure size 640x480 with 1 Axes>"
            ],
            "image/png": "[encoded data removed]"
          },
          "metadata": {}
        }
      ]
    },
    {
      "cell_type": "markdown",
      "source": [
        "# TODO: Extract the embeddings"
      ],
      "metadata": {
        "id": "uARqDG-twyV7"
      }
    },
    {
      "cell_type": "code",
      "source": [
        "# Extract embeddings\n",
        "embeddings = model.get_layer('embedding').get_weights()[0]"
      ],
      "metadata": {
        "id": "G2cN8QXMnc7d"
      },
      "execution_count": 92,
      "outputs": []
    },
    {
      "cell_type": "markdown",
      "source": [
        "# TODO: Find similar words"
      ],
      "metadata": {
        "id": "5AuaC0wlw5AQ"
      }
    },
    {
      "cell_type": "code",
      "source": [
        "def cosine_similarity(vec_a, vec_b):\n",
        "    \"\"\"Calculate the cosine similarity between two vectors.\"\"\"\n",
        "    dot_product = np.dot(vec_a, vec_b)\n",
        "    norm_vec_a = np.linalg.norm(vec_a)\n",
        "    norm_vec_b = np.linalg.norm(vec_b)\n",
        "    similarity = dot_product / (norm_vec_a * norm_vec_b)\n",
        "    return similarity\n",
        "\n",
        "def find_similar_words(query_word, vocab, embeddings, top_n=3):\n",
        "    \"\"\"Find the top_n words most similar to the query_word based on the embeddings.\"\"\"\n",
        "\n",
        "    if isinstance(vocab, set):\n",
        "        vocab = list(vocab)\n",
        "\n",
        "    query_index = vocab.index(query_word)\n",
        "    query_embedding = embeddings[query_index]\n",
        "\n",
        "    similarities = []\n",
        "\n",
        "    #populate the similarities list\n",
        "    for word in vocab:\n",
        "        if word != query_word:\n",
        "            word_index = vocab.index(word)\n",
        "            similarity = cosine_similarity(query_embedding, embeddings[word_index])\n",
        "            similarities.append((word, similarity))\n",
        "\n",
        "    # Sort based on similarity scores\n",
        "    similarities.sort(key=lambda x: x[1], reverse=True)\n",
        "\n",
        "    # Print top similar words\n",
        "    print(f\"Words most similar to '{query_word}':\")\n",
        "    for word, similarity in similarities[:top_n]:\n",
        "        print(f\"{word}: {similarity:.4f}\")\n",
        "\n"
      ],
      "metadata": {
        "id": "0wt6O91ajECC"
      },
      "execution_count": 93,
      "outputs": []
    },
    {
      "cell_type": "code",
      "source": [
        "query_words = ['poland', 'thailand', 'morocco']\n",
        "\n",
        "for query_word in query_words:\n",
        "    find_similar_words(query_word, vocab, embeddings)\n",
        "    print(\"\\n\")\n"
      ],
      "metadata": {
        "id": "Ezzy52UyjFR8",
        "colab": {
          "base_uri": "https://localhost:8080/"
        },
        "outputId": "461f8fcd-42d6-43c8-d84e-dd3dd5f3a10c"
      },
      "execution_count": 94,
      "outputs": [
        {
          "output_type": "stream",
          "name": "stdout",
          "text": [
            "Words most similar to 'poland':\n",
            "russia: 0.9972\n",
            "sweden: 0.9864\n",
            "germany: 0.9675\n",
            "\n",
            "\n",
            "Words most similar to 'thailand':\n",
            "philippines: 0.9991\n",
            "indonesia: 0.9969\n",
            "japan: 0.9765\n",
            "\n",
            "\n",
            "Words most similar to 'morocco':\n",
            "kenya: 0.9970\n",
            "ethiopia: 0.9967\n",
            "nigeria: 0.9874\n",
            "\n",
            "\n"
          ]
        }
      ]
    },
    {
      "cell_type": "markdown",
      "source": [
        "# TODO: Visualise the embeddings"
      ],
      "metadata": {
        "id": "M4eJgZRQxFz2"
      }
    },
    {
      "cell_type": "code",
      "source": [
        "# Create a scatter plot of the embeddings\n",
        "plt.figure(figsize=(10, 10))\n",
        "plt.scatter(embeddings[:, 0], embeddings[:, 1])\n",
        "\n",
        "# Annotate the points with their indices\n",
        "for i in range(vocab_size):\n",
        "    plt.annotate(i, (embeddings[i, 0], embeddings[i, 1]))\n",
        "\n",
        "plt.title(\"Word Embeddings\")\n",
        "plt.xlabel(\"Embedding Dimension 1\")\n",
        "plt.ylabel(\"Embedding Dimension 2\")\n",
        "plt.grid(True)\n",
        "plt.show()"
      ],
      "metadata": {
        "id": "vB3ZFrgapYr_",
        "colab": {
          "base_uri": "https://localhost:8080/",
          "height": 872
        },
        "outputId": "2960f870-bc5b-4e7c-da41-dbf9abe982a5"
      },
      "execution_count": 95,
      "outputs": [
        {
          "output_type": "display_data",
          "data": {
            "text/plain": [
              "<Figure size 1000x1000 with 1 Axes>"
            ],
            "image/png": "[encoded data removed]"
          },
          "metadata": {}
        }
      ]
    }
  ]
}