{
  "nbformat": 4,
  "nbformat_minor": 0,
  "metadata": {
    "colab": {
      "provenance": [],
      "include_colab_link": true
    },
    "kernelspec": {
      "name": "python3",
      "display_name": "Python 3"
    },
    "language_info": {
      "name": "python"
    }
  },
  "cells": [
    {
      "cell_type": "markdown",
      "metadata": {
        "id": "view-in-github",
        "colab_type": "text"
      },
      "source": [
        "<a href=\"https://colab.research.google.com/github/mr-nudo/intelligent-tools/blob/master/LSTM.ipynb\" target=\"_parent\"><img src=\"https://colab.research.google.com/assets/colab-badge.svg\" alt=\"Open In Colab\"/></a>"
      ]
    },
    {
      "cell_type": "markdown",
      "source": [
        "# TODO: Import the required libraries"
      ],
      "metadata": {
        "id": "-ShLoND4kvBP"
      }
    },
    {
      "cell_type": "code",
      "source": [
        "# TODO\n",
        "import os\n",
        "import numpy as np\n",
        "import tensorflow as tf\n",
        "import random"
      ],
      "metadata": {
        "id": "JNm5tMT4owV2"
      },
      "execution_count": null,
      "outputs": []
    },
    {
      "cell_type": "markdown",
      "source": [
        "# Adding random seed"
      ],
      "metadata": {
        "id": "Pc0lsInBt0hO"
      }
    },
    {
      "cell_type": "code",
      "source": [
        "# Set environment variables\n",
        "os.environ['PYTHONHASHSEED'] = str(25)\n",
        "os.environ['TF_DETERMINISTIC_OPS'] = '1'\n",
        "os.environ['TF_CUDNN_DETERMINISTIC'] = '1'\n",
        "\n",
        "# Set seed values\n",
        "np.random.seed(25)\n",
        "tf.random.set_seed(25)\n",
        "random.seed(25)"
      ],
      "metadata": {
        "id": "-fG-gUjRt9N-"
      },
      "execution_count": null,
      "outputs": []
    },
    {
      "cell_type": "markdown",
      "source": [
        "# TODO: Read and Preprocess the dataset"
      ],
      "metadata": {
        "id": "PA28CYq9kzYI"
      }
    },
    {
      "cell_type": "code",
      "source": [
        "path = 'path_to_alice.txt'\n",
        "text = \"\"\n",
        "\n",
        "# TODO: Load and preprocess the text\n"
      ],
      "metadata": {
        "id": "UF9gYFvBk4zQ"
      },
      "execution_count": null,
      "outputs": []
    },
    {
      "cell_type": "code",
      "source": [
        "print(len(text))"
      ],
      "metadata": {
        "id": "2UHmLguZRMUS"
      },
      "execution_count": null,
      "outputs": []
    },
    {
      "cell_type": "markdown",
      "source": [
        "# TODO: Using tokenizers"
      ],
      "metadata": {
        "id": "76FWfPQnlCfT"
      }
    },
    {
      "cell_type": "code",
      "source": [
        "# TODO: Tokenize the text\n"
      ],
      "metadata": {
        "id": "g8DkbTcZlDe6"
      },
      "execution_count": null,
      "outputs": []
    },
    {
      "cell_type": "code",
      "source": [
        "print(total_words)"
      ],
      "metadata": {
        "id": "66GlWnQmRPcx"
      },
      "execution_count": null,
      "outputs": []
    },
    {
      "cell_type": "markdown",
      "source": [
        "# TODO: Feature Engineering"
      ],
      "metadata": {
        "id": "9f7lULFglL2S"
      }
    },
    {
      "cell_type": "code",
      "source": [
        "# TODO: Create input sequences\n",
        "input_sequences = []\n",
        "\n",
        "\n",
        "# TODO: Pad sequences"
      ],
      "metadata": {
        "id": "szpzGGFilQQF"
      },
      "execution_count": null,
      "outputs": []
    },
    {
      "cell_type": "code",
      "source": [
        "print(len(input_sequences))"
      ],
      "metadata": {
        "id": "xznaaN41YXsK"
      },
      "execution_count": null,
      "outputs": []
    },
    {
      "cell_type": "markdown",
      "source": [
        "# TODO: Storing features and labels"
      ],
      "metadata": {
        "id": "3Sx1nF7ClSwv"
      }
    },
    {
      "cell_type": "code",
      "source": [
        "# TODO: Create predictors and labels\n",
        "\n",
        "\n",
        "# TODO: Split the data into training and validation sets"
      ],
      "metadata": {
        "id": "U72XiieKlTAG"
      },
      "execution_count": null,
      "outputs": []
    },
    {
      "cell_type": "markdown",
      "source": [
        "# TODO: Building our model"
      ],
      "metadata": {
        "id": "J2D4YaQ2lWxh"
      }
    },
    {
      "cell_type": "code",
      "source": [
        "# TODO: Build your model"
      ],
      "metadata": {
        "id": "x1-88fIblY1j"
      },
      "execution_count": null,
      "outputs": []
    },
    {
      "cell_type": "markdown",
      "source": [
        "# TODO: Model training"
      ],
      "metadata": {
        "id": "mgqvWzdUleUE"
      }
    },
    {
      "cell_type": "code",
      "source": [
        "# TODO: Train your model"
      ],
      "metadata": {
        "id": "vhx4p1lWldOS"
      },
      "execution_count": null,
      "outputs": []
    },
    {
      "cell_type": "markdown",
      "source": [
        "# TODO: Visualising the Training and Validation Accuracies and Losses against the number of Epochs"
      ],
      "metadata": {
        "id": "69szYwGslknP"
      }
    },
    {
      "cell_type": "code",
      "source": [
        "# TODO: Plotting the training and validation loss and accuracy\n"
      ],
      "metadata": {
        "id": "ti0KtAsJllVB"
      },
      "execution_count": null,
      "outputs": []
    },
    {
      "cell_type": "markdown",
      "source": [
        "# TODO: Generate text"
      ],
      "metadata": {
        "id": "qMsd889wuvR4"
      }
    },
    {
      "cell_type": "code",
      "source": [
        "# TODO: Function to generate text\n",
        "def generate_text():\n",
        "    # TODO\n",
        "\n",
        "# Generate text\n",
        "seed_text = \"Forest is\"\n",
        "next_words = 10\n",
        "generated_text = generate_text()\n",
        "print(generated_text)"
      ],
      "metadata": {
        "id": "SXHE7cU_uxRx"
      },
      "execution_count": null,
      "outputs": []
    }
  ]
}