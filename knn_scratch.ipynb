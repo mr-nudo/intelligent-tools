{
  "nbformat": 4,
  "nbformat_minor": 0,
  "metadata": {
    "colab": {
      "provenance": [],
      "include_colab_link": true
    },
    "kernelspec": {
      "name": "python3",
      "display_name": "Python 3"
    },
    "language_info": {
      "name": "python"
    }
  },
  "cells": [
    {
      "cell_type": "markdown",
      "metadata": {
        "id": "view-in-github",
        "colab_type": "text"
      },
      "source": [
        "<a href=\"https://colab.research.google.com/github/mr-nudo/intelligent-tools/blob/master/knn_scratch.ipynb\" target=\"_parent\"><img src=\"https://colab.research.google.com/assets/colab-badge.svg\" alt=\"Open In Colab\"/></a>"
      ]
    },
    {
      "cell_type": "markdown",
      "source": [
        "# Section I"
      ],
      "metadata": {
        "id": "YDKn3oP65Cm1"
      }
    },
    {
      "cell_type": "code",
      "execution_count": null,
      "metadata": {
        "id": "xdgCGQTZxoaz"
      },
      "outputs": [],
      "source": [
        "import numpy as np\n",
        "from collections import Counter\n",
        "\n",
        "def knn(data, query, k, distance_fn, choice_fn):\n",
        "    neighbor_distances_and_indices = []\n",
        "\n",
        "    # Calculate the distance between the query example and all the examples in the data.\n",
        "\n",
        "    # Sort the distances and return the labels of the k nearest neighbors.\n",
        "\n",
        "    # Pick the first k entries from the sorted collection\n",
        "\n",
        "    # Get the labels of the selected k entries\n",
        "\n",
        "    # If regression (mean), if classification (mode)\n",
        "\n",
        "    return choice_fn(k_nearest_labels)\n",
        "\n",
        "def euclidean_distance(point1, point2):\n",
        "   # implement this function to return euclidean distance between point1 and point2\n",
        "   point1 = np.array(point1)\n",
        "   point2 = np.array(point2)\n",
        "   square_diff_sum = np.sum((point1 - point2) ** 2)\n",
        "   return np.sqrt(square_diff_sum)\n",
        "\n",
        "def mean(labels):\n",
        "   # implement this function to return the mean of the labels.\n",
        "   return sum(labels) / len(labels)\n",
        "\n",
        "def mode(labels):\n",
        "  # implement this function to return the mode of the labels.\n",
        "  label_counts = Counter(labels)\n",
        "  max_count = max(label_counts.values())\n",
        "  modes = [label for label, count in label_counts.items() if count == max_count]\n",
        "  return modes\n"
      ]
    },
    {
      "cell_type": "markdown",
      "source": [
        "# Section II"
      ],
      "metadata": {
        "id": "JMwHQBDU5M35"
      }
    },
    {
      "cell_type": "code",
      "source": [
        "def sklearn_knn_regression(reg_data, reg_query):\n",
        "\n",
        "    # Initialize the KNN regressor with 3 nearest neighbors\n",
        "\n",
        "    # Fit the model on the training data; use all but the last column as features and the last column as the target\n",
        "\n",
        "    # Predict the output for the provided query and return the first (and likely only) prediction\n",
        "\n",
        "    return skl_reg_prediction\n",
        "\n",
        "\n",
        "def sklearn_knn_classification(clf_data, clf_query):\n",
        "\n",
        "    # Initialize the KNN classifier with 3 nearest neighbors\n",
        "\n",
        "    # Fit the model on the training data; use all but the last column as features and the last column as the target\n",
        "\n",
        "    # Predict the class for the provided query and return the first (and likely only) prediction\n",
        "\n",
        "    return skl_clf_prediction"
      ],
      "metadata": {
        "id": "s83ASxXg5KlS"
      },
      "execution_count": null,
      "outputs": []
    },
    {
      "cell_type": "markdown",
      "source": [
        "# Section III\n"
      ],
      "metadata": {
        "id": "o6hB6ZOk5iD2"
      }
    },
    {
      "cell_type": "code",
      "source": [
        "def weighted_mode(labels, weights):\n",
        "    # Initialize a defaultdict to store the sum of weights for each label\n",
        "\n",
        "    # Iterate through each label in the labels list and Sum the weights for each label and store in the defaultdict\n",
        "\n",
        "    # Determine the label with the maximum sum of weights\n",
        "\n",
        "    # Return the label that has the highest sum of weights\n",
        "    return max_weighted_label\n",
        "\n",
        "def knn_weighted(data, query, k, distance_fn, choice_fn, weights):\n",
        "\n",
        "    # Calculate the distance between the query example and all the examples in the data.\n",
        "\n",
        "    # Sort the distances and return the labels of the k nearest neighbors.\n",
        "\n",
        "    # Pick the first k entries from the sorted collection\n",
        "\n",
        "    # Get the labels of the selected k entries\n",
        "\n",
        "    # Apply the weighted mode function and return nearest neighbors too\n",
        "    return choice_fn(k_nearest_labels, weights)"
      ],
      "metadata": {
        "id": "2Gw0tZIo5oBI"
      },
      "execution_count": null,
      "outputs": []
    },
    {
      "cell_type": "code",
      "source": [
        "# # Load the Regression Data. The first index consists of age(feature) and the second index is the label. The label is height of the person in centimeter.\n",
        "reg_data = # Load the data\n",
        "\n",
        "reg_query = np.array([[55]])  # reshape to fit scikit-learn requirements\n",
        "\n",
        "# Custom KNN Prediction\n",
        "custom_reg_prediction = knn(reg_data, reg_query, k=3, distance_fn=euclidean_distance, choice_fn=mean)\n",
        "\n",
        "# Scikit-learn KNN Regression\n",
        "skl_reg_prediction = sklearn_knn_regression(reg_data, reg_query)\n",
        "\n",
        "print(\"Custom KNN Regression Prediction:\", custom_reg_prediction)\n",
        "print(\"Scikit-learn KNN Regression Prediction:\", skl_reg_prediction)"
      ],
      "metadata": {
        "id": "SWWGgLc-6Xl7"
      },
      "execution_count": null,
      "outputs": []
    },
    {
      "cell_type": "code",
      "source": [
        "# Load the Classification Data. The first index consists of age(feature) and the second index is the label. The label 0 is for likes pineapple or not.\n",
        "clf_data = # Load the data\n",
        "\n",
        "clf_query = np.array([[18]])  # reshape to fit scikit-learn requirements\n",
        "\n",
        "# Custom KNN Prediction\n",
        "custom_clf_prediction = knn(clf_data, clf_query, k=3, distance_fn=euclidean_distance, choice_fn=mode)\n",
        "\n",
        "# Scikit-learn KNN Classification\n",
        "skl_clf_prediction = sklearn_knn_classification(clf_data, clf_query)\n",
        "\n",
        "print(\"Custom KNN Classification Prediction:\", custom_clf_prediction)\n",
        "print(\"Scikit-learn KNN Classification Prediction:\", skl_clf_prediction)"
      ],
      "metadata": {
        "id": "rT8RjYDwtVrO"
      },
      "execution_count": null,
      "outputs": []
    },
    {
      "cell_type": "code",
      "source": [
        "weights = {0: 1, 1: 2}\n",
        "\n",
        "# Query for whether a 15-year-old likes pineapple or not. The classification should be 1 as this exact sample is present in the dataset\n",
        "# but because of unbalanced dataset this will be predicted as class 0.\n",
        "\n",
        "clf_query = np.array([[15]])  # reshape to fit scikit-learn requirements\n",
        "\n",
        "# Custom KNN Prediction\n",
        "custom_clf_prediction = knn(clf_data, clf_query, k=3, distance_fn=euclidean_distance, choice_fn=mode)\n",
        "\n",
        "# Scikit-learn KNN Classification\n",
        "skl_clf_prediction = sklearn_knn_classification(clf_data, clf_query)\n",
        "\n",
        "print(\"Custom KNN Classification Prediction:\", custom_clf_prediction)\n",
        "print(\"Scikit-learn KNN Classification Prediction:\", skl_clf_prediction)"
      ],
      "metadata": {
        "id": "Vs49dsTGtYQ7"
      },
      "execution_count": null,
      "outputs": []
    },
    {
      "cell_type": "code",
      "source": [
        "clf_prediction = knn_weighted(clf_data, clf_query, k=3, distance_fn=euclidean_distance, choice_fn=weighted_mode, weights=weights)\n",
        "print(\"Prediction for weighted KNN:\", clf_prediction)"
      ],
      "metadata": {
        "id": "o0-WAmhpL-qq"
      },
      "execution_count": null,
      "outputs": []
    }
  ]
}